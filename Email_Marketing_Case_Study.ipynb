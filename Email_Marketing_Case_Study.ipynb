{
 "cells": [
  {
   "cell_type": "markdown",
   "id": "76c216df",
   "metadata": {},
   "source": [
    "\n",
    "# 📧 Email Marketing Campaign Case Study\n",
    "\n",
    "This notebook analyzes an email marketing campaign, builds a model to optimize click-through rates, and visualizes insights from the data.\n"
   ]
  },
  {
   "cell_type": "markdown",
   "id": "528ce23e",
   "metadata": {},
   "source": [
    "\n",
    "## Load the Data\n",
    "\n",
    "Three CSV files are given:\n",
    "- `email_table.csv`: Metadata about sent emails\n",
    "- `email_opened_table.csv`: IDs of emails that were opened\n",
    "- `link_clicked_table.csv`: IDs of emails whose links were clicked\n"
   ]
  },
  {
   "cell_type": "code",
   "execution_count": 1,
   "id": "751bd976",
   "metadata": {},
   "outputs": [
    {
     "data": {
      "text/html": [
       "<div>\n",
       "<style scoped>\n",
       "    .dataframe tbody tr th:only-of-type {\n",
       "        vertical-align: middle;\n",
       "    }\n",
       "\n",
       "    .dataframe tbody tr th {\n",
       "        vertical-align: top;\n",
       "    }\n",
       "\n",
       "    .dataframe thead th {\n",
       "        text-align: right;\n",
       "    }\n",
       "</style>\n",
       "<table border=\"1\" class=\"dataframe\">\n",
       "  <thead>\n",
       "    <tr style=\"text-align: right;\">\n",
       "      <th></th>\n",
       "      <th>email_id</th>\n",
       "      <th>email_text</th>\n",
       "      <th>email_version</th>\n",
       "      <th>hour</th>\n",
       "      <th>weekday</th>\n",
       "      <th>user_country</th>\n",
       "      <th>user_past_purchases</th>\n",
       "    </tr>\n",
       "  </thead>\n",
       "  <tbody>\n",
       "    <tr>\n",
       "      <th>0</th>\n",
       "      <td>85120</td>\n",
       "      <td>short_email</td>\n",
       "      <td>personalized</td>\n",
       "      <td>2</td>\n",
       "      <td>Sunday</td>\n",
       "      <td>US</td>\n",
       "      <td>5</td>\n",
       "    </tr>\n",
       "    <tr>\n",
       "      <th>1</th>\n",
       "      <td>966622</td>\n",
       "      <td>long_email</td>\n",
       "      <td>personalized</td>\n",
       "      <td>12</td>\n",
       "      <td>Sunday</td>\n",
       "      <td>UK</td>\n",
       "      <td>2</td>\n",
       "    </tr>\n",
       "    <tr>\n",
       "      <th>2</th>\n",
       "      <td>777221</td>\n",
       "      <td>long_email</td>\n",
       "      <td>personalized</td>\n",
       "      <td>11</td>\n",
       "      <td>Wednesday</td>\n",
       "      <td>US</td>\n",
       "      <td>2</td>\n",
       "    </tr>\n",
       "    <tr>\n",
       "      <th>3</th>\n",
       "      <td>493711</td>\n",
       "      <td>short_email</td>\n",
       "      <td>generic</td>\n",
       "      <td>6</td>\n",
       "      <td>Monday</td>\n",
       "      <td>UK</td>\n",
       "      <td>1</td>\n",
       "    </tr>\n",
       "    <tr>\n",
       "      <th>4</th>\n",
       "      <td>106887</td>\n",
       "      <td>long_email</td>\n",
       "      <td>generic</td>\n",
       "      <td>14</td>\n",
       "      <td>Monday</td>\n",
       "      <td>US</td>\n",
       "      <td>6</td>\n",
       "    </tr>\n",
       "  </tbody>\n",
       "</table>\n",
       "</div>"
      ],
      "text/plain": [
       "   email_id   email_text email_version  hour    weekday user_country  \\\n",
       "0     85120  short_email  personalized     2     Sunday           US   \n",
       "1    966622   long_email  personalized    12     Sunday           UK   \n",
       "2    777221   long_email  personalized    11  Wednesday           US   \n",
       "3    493711  short_email       generic     6     Monday           UK   \n",
       "4    106887   long_email       generic    14     Monday           US   \n",
       "\n",
       "   user_past_purchases  \n",
       "0                    5  \n",
       "1                    2  \n",
       "2                    2  \n",
       "3                    1  \n",
       "4                    6  "
      ]
     },
     "execution_count": 1,
     "metadata": {},
     "output_type": "execute_result"
    }
   ],
   "source": [
    "import numpy as np\n",
    "import pandas as pd\n",
    "\n",
    "# Load data\n",
    "email_table = pd.read_csv('email_table.csv')\n",
    "email_opened = pd.read_csv('email_opened_table.csv')\n",
    "link_clicked = pd.read_csv('link_clicked_table.csv')\n",
    "\n",
    "email_table.head()\n"
   ]
  },
  {
   "cell_type": "markdown",
   "id": "531aa374",
   "metadata": {},
   "source": [
    "\n",
    "## Calculate Email Open and Click-Through Rates\n"
   ]
  },
  {
   "cell_type": "code",
   "execution_count": 3,
   "id": "5b927fd2",
   "metadata": {},
   "outputs": [
    {
     "name": "stdout",
     "output_type": "stream",
     "text": [
      "Open Rate: 10.35%\n",
      "Click-Through Rate: 2.12%\n"
     ]
    }
   ],
   "source": [
    "\n",
    "# Total emails sent\n",
    "total_emails = email_table.shape[0]\n",
    "\n",
    "# Open and click counts\n",
    "opened_emails = email_opened['email_id'].nunique()\n",
    "clicked_emails = link_clicked['email_id'].nunique()\n",
    "\n",
    "# Rates\n",
    "open_rate = opened_emails / total_emails\n",
    "click_through_rate = clicked_emails / total_emails \n",
    "\n",
    "print(f\"Open Rate: {open_rate:.2%}\")\n",
    "print(f\"Click-Through Rate: {click_through_rate:.2%}\")\n"
   ]
  },
  {
   "cell_type": "markdown",
   "id": "5ffb61a6",
   "metadata": {},
   "source": [
    "\n",
    "## Data Preprocessing\n",
    "\n",
    "- The tables are used and categorical variables are encoded to prepare for modeling.\n",
    "- Here LabelEncoder is used for encoding categorical features."
   ]
  },
  {
   "cell_type": "code",
   "execution_count": 6,
   "id": "0f2e93c1",
   "metadata": {},
   "outputs": [],
   "source": [
    "\n",
    "from sklearn.preprocessing import LabelEncoder, OneHotEncoder\n",
    "\n",
    "# Merge labels\n",
    "email_table['opened'] = email_table['email_id'].isin(email_opened['email_id']).astype(int)\n",
    "email_table['clicked'] = email_table['email_id'].isin(link_clicked['email_id']).astype(int)\n",
    "\n",
    "# Encode categorical columns\n",
    "df = email_table.copy()\n",
    "temp_df = df.copy()  ## This is used to identify what class name is labelled to each class for every categorical feature.\n",
    "\n",
    "categorical_cols = ['email_text', 'email_version', 'weekday', 'user_country']\n",
    "df[categorical_cols] = df[categorical_cols].apply(LabelEncoder().fit_transform)\n",
    "\n"
   ]
  },
  {
   "cell_type": "code",
   "execution_count": 7,
   "id": "5257c265-e1b5-428a-acce-ffddc34e2f76",
   "metadata": {},
   "outputs": [
    {
     "data": {
      "text/html": [
       "<div>\n",
       "<style scoped>\n",
       "    .dataframe tbody tr th:only-of-type {\n",
       "        vertical-align: middle;\n",
       "    }\n",
       "\n",
       "    .dataframe tbody tr th {\n",
       "        vertical-align: top;\n",
       "    }\n",
       "\n",
       "    .dataframe thead th {\n",
       "        text-align: right;\n",
       "    }\n",
       "</style>\n",
       "<table border=\"1\" class=\"dataframe\">\n",
       "  <thead>\n",
       "    <tr style=\"text-align: right;\">\n",
       "      <th></th>\n",
       "      <th>email_id</th>\n",
       "      <th>email_text</th>\n",
       "      <th>email_version</th>\n",
       "      <th>hour</th>\n",
       "      <th>weekday</th>\n",
       "      <th>user_country</th>\n",
       "      <th>user_past_purchases</th>\n",
       "      <th>opened</th>\n",
       "      <th>clicked</th>\n",
       "    </tr>\n",
       "  </thead>\n",
       "  <tbody>\n",
       "    <tr>\n",
       "      <th>0</th>\n",
       "      <td>85120</td>\n",
       "      <td>1</td>\n",
       "      <td>1</td>\n",
       "      <td>2</td>\n",
       "      <td>3</td>\n",
       "      <td>3</td>\n",
       "      <td>5</td>\n",
       "      <td>0</td>\n",
       "      <td>0</td>\n",
       "    </tr>\n",
       "    <tr>\n",
       "      <th>1</th>\n",
       "      <td>966622</td>\n",
       "      <td>0</td>\n",
       "      <td>1</td>\n",
       "      <td>12</td>\n",
       "      <td>3</td>\n",
       "      <td>2</td>\n",
       "      <td>2</td>\n",
       "      <td>1</td>\n",
       "      <td>1</td>\n",
       "    </tr>\n",
       "    <tr>\n",
       "      <th>2</th>\n",
       "      <td>777221</td>\n",
       "      <td>0</td>\n",
       "      <td>1</td>\n",
       "      <td>11</td>\n",
       "      <td>6</td>\n",
       "      <td>3</td>\n",
       "      <td>2</td>\n",
       "      <td>0</td>\n",
       "      <td>0</td>\n",
       "    </tr>\n",
       "    <tr>\n",
       "      <th>3</th>\n",
       "      <td>493711</td>\n",
       "      <td>1</td>\n",
       "      <td>0</td>\n",
       "      <td>6</td>\n",
       "      <td>1</td>\n",
       "      <td>2</td>\n",
       "      <td>1</td>\n",
       "      <td>0</td>\n",
       "      <td>0</td>\n",
       "    </tr>\n",
       "    <tr>\n",
       "      <th>4</th>\n",
       "      <td>106887</td>\n",
       "      <td>0</td>\n",
       "      <td>0</td>\n",
       "      <td>14</td>\n",
       "      <td>1</td>\n",
       "      <td>3</td>\n",
       "      <td>6</td>\n",
       "      <td>0</td>\n",
       "      <td>0</td>\n",
       "    </tr>\n",
       "    <tr>\n",
       "      <th>...</th>\n",
       "      <td>...</td>\n",
       "      <td>...</td>\n",
       "      <td>...</td>\n",
       "      <td>...</td>\n",
       "      <td>...</td>\n",
       "      <td>...</td>\n",
       "      <td>...</td>\n",
       "      <td>...</td>\n",
       "      <td>...</td>\n",
       "    </tr>\n",
       "    <tr>\n",
       "      <th>99995</th>\n",
       "      <td>803504</td>\n",
       "      <td>1</td>\n",
       "      <td>1</td>\n",
       "      <td>4</td>\n",
       "      <td>1</td>\n",
       "      <td>3</td>\n",
       "      <td>5</td>\n",
       "      <td>0</td>\n",
       "      <td>0</td>\n",
       "    </tr>\n",
       "    <tr>\n",
       "      <th>99996</th>\n",
       "      <td>899722</td>\n",
       "      <td>0</td>\n",
       "      <td>1</td>\n",
       "      <td>7</td>\n",
       "      <td>2</td>\n",
       "      <td>3</td>\n",
       "      <td>1</td>\n",
       "      <td>0</td>\n",
       "      <td>0</td>\n",
       "    </tr>\n",
       "    <tr>\n",
       "      <th>99997</th>\n",
       "      <td>449610</td>\n",
       "      <td>0</td>\n",
       "      <td>1</td>\n",
       "      <td>11</td>\n",
       "      <td>2</td>\n",
       "      <td>2</td>\n",
       "      <td>6</td>\n",
       "      <td>0</td>\n",
       "      <td>0</td>\n",
       "    </tr>\n",
       "    <tr>\n",
       "      <th>99998</th>\n",
       "      <td>72497</td>\n",
       "      <td>1</td>\n",
       "      <td>0</td>\n",
       "      <td>10</td>\n",
       "      <td>1</td>\n",
       "      <td>2</td>\n",
       "      <td>0</td>\n",
       "      <td>0</td>\n",
       "      <td>0</td>\n",
       "    </tr>\n",
       "    <tr>\n",
       "      <th>99999</th>\n",
       "      <td>348333</td>\n",
       "      <td>0</td>\n",
       "      <td>1</td>\n",
       "      <td>8</td>\n",
       "      <td>3</td>\n",
       "      <td>2</td>\n",
       "      <td>1</td>\n",
       "      <td>1</td>\n",
       "      <td>1</td>\n",
       "    </tr>\n",
       "  </tbody>\n",
       "</table>\n",
       "<p>100000 rows × 9 columns</p>\n",
       "</div>"
      ],
      "text/plain": [
       "       email_id  email_text  email_version  hour  weekday  user_country  \\\n",
       "0         85120           1              1     2        3             3   \n",
       "1        966622           0              1    12        3             2   \n",
       "2        777221           0              1    11        6             3   \n",
       "3        493711           1              0     6        1             2   \n",
       "4        106887           0              0    14        1             3   \n",
       "...         ...         ...            ...   ...      ...           ...   \n",
       "99995    803504           1              1     4        1             3   \n",
       "99996    899722           0              1     7        2             3   \n",
       "99997    449610           0              1    11        2             2   \n",
       "99998     72497           1              0    10        1             2   \n",
       "99999    348333           0              1     8        3             2   \n",
       "\n",
       "       user_past_purchases  opened  clicked  \n",
       "0                        5       0        0  \n",
       "1                        2       1        1  \n",
       "2                        2       0        0  \n",
       "3                        1       0        0  \n",
       "4                        6       0        0  \n",
       "...                    ...     ...      ...  \n",
       "99995                    5       0        0  \n",
       "99996                    1       0        0  \n",
       "99997                    6       0        0  \n",
       "99998                    0       0        0  \n",
       "99999                    1       1        1  \n",
       "\n",
       "[100000 rows x 9 columns]"
      ]
     },
     "execution_count": 7,
     "metadata": {},
     "output_type": "execute_result"
    }
   ],
   "source": [
    "df"
   ]
  },
  {
   "cell_type": "code",
   "execution_count": 8,
   "id": "98ff9ff6-6ebb-4fdf-b3d6-dd03f4714cca",
   "metadata": {},
   "outputs": [
    {
     "data": {
      "text/html": [
       "<div>\n",
       "<style scoped>\n",
       "    .dataframe tbody tr th:only-of-type {\n",
       "        vertical-align: middle;\n",
       "    }\n",
       "\n",
       "    .dataframe tbody tr th {\n",
       "        vertical-align: top;\n",
       "    }\n",
       "\n",
       "    .dataframe thead th {\n",
       "        text-align: right;\n",
       "    }\n",
       "</style>\n",
       "<table border=\"1\" class=\"dataframe\">\n",
       "  <thead>\n",
       "    <tr style=\"text-align: right;\">\n",
       "      <th></th>\n",
       "      <th>email_id</th>\n",
       "      <th>email_text</th>\n",
       "      <th>email_version</th>\n",
       "      <th>hour</th>\n",
       "      <th>weekday</th>\n",
       "      <th>user_country</th>\n",
       "      <th>user_past_purchases</th>\n",
       "      <th>opened</th>\n",
       "      <th>clicked</th>\n",
       "    </tr>\n",
       "  </thead>\n",
       "  <tbody>\n",
       "    <tr>\n",
       "      <th>0</th>\n",
       "      <td>85120</td>\n",
       "      <td>short_email</td>\n",
       "      <td>personalized</td>\n",
       "      <td>2</td>\n",
       "      <td>Sunday</td>\n",
       "      <td>US</td>\n",
       "      <td>5</td>\n",
       "      <td>0</td>\n",
       "      <td>0</td>\n",
       "    </tr>\n",
       "    <tr>\n",
       "      <th>1</th>\n",
       "      <td>966622</td>\n",
       "      <td>long_email</td>\n",
       "      <td>personalized</td>\n",
       "      <td>12</td>\n",
       "      <td>Sunday</td>\n",
       "      <td>UK</td>\n",
       "      <td>2</td>\n",
       "      <td>1</td>\n",
       "      <td>1</td>\n",
       "    </tr>\n",
       "    <tr>\n",
       "      <th>2</th>\n",
       "      <td>777221</td>\n",
       "      <td>long_email</td>\n",
       "      <td>personalized</td>\n",
       "      <td>11</td>\n",
       "      <td>Wednesday</td>\n",
       "      <td>US</td>\n",
       "      <td>2</td>\n",
       "      <td>0</td>\n",
       "      <td>0</td>\n",
       "    </tr>\n",
       "    <tr>\n",
       "      <th>3</th>\n",
       "      <td>493711</td>\n",
       "      <td>short_email</td>\n",
       "      <td>generic</td>\n",
       "      <td>6</td>\n",
       "      <td>Monday</td>\n",
       "      <td>UK</td>\n",
       "      <td>1</td>\n",
       "      <td>0</td>\n",
       "      <td>0</td>\n",
       "    </tr>\n",
       "    <tr>\n",
       "      <th>4</th>\n",
       "      <td>106887</td>\n",
       "      <td>long_email</td>\n",
       "      <td>generic</td>\n",
       "      <td>14</td>\n",
       "      <td>Monday</td>\n",
       "      <td>US</td>\n",
       "      <td>6</td>\n",
       "      <td>0</td>\n",
       "      <td>0</td>\n",
       "    </tr>\n",
       "    <tr>\n",
       "      <th>...</th>\n",
       "      <td>...</td>\n",
       "      <td>...</td>\n",
       "      <td>...</td>\n",
       "      <td>...</td>\n",
       "      <td>...</td>\n",
       "      <td>...</td>\n",
       "      <td>...</td>\n",
       "      <td>...</td>\n",
       "      <td>...</td>\n",
       "    </tr>\n",
       "    <tr>\n",
       "      <th>99995</th>\n",
       "      <td>803504</td>\n",
       "      <td>short_email</td>\n",
       "      <td>personalized</td>\n",
       "      <td>4</td>\n",
       "      <td>Monday</td>\n",
       "      <td>US</td>\n",
       "      <td>5</td>\n",
       "      <td>0</td>\n",
       "      <td>0</td>\n",
       "    </tr>\n",
       "    <tr>\n",
       "      <th>99996</th>\n",
       "      <td>899722</td>\n",
       "      <td>long_email</td>\n",
       "      <td>personalized</td>\n",
       "      <td>7</td>\n",
       "      <td>Saturday</td>\n",
       "      <td>US</td>\n",
       "      <td>1</td>\n",
       "      <td>0</td>\n",
       "      <td>0</td>\n",
       "    </tr>\n",
       "    <tr>\n",
       "      <th>99997</th>\n",
       "      <td>449610</td>\n",
       "      <td>long_email</td>\n",
       "      <td>personalized</td>\n",
       "      <td>11</td>\n",
       "      <td>Saturday</td>\n",
       "      <td>UK</td>\n",
       "      <td>6</td>\n",
       "      <td>0</td>\n",
       "      <td>0</td>\n",
       "    </tr>\n",
       "    <tr>\n",
       "      <th>99998</th>\n",
       "      <td>72497</td>\n",
       "      <td>short_email</td>\n",
       "      <td>generic</td>\n",
       "      <td>10</td>\n",
       "      <td>Monday</td>\n",
       "      <td>UK</td>\n",
       "      <td>0</td>\n",
       "      <td>0</td>\n",
       "      <td>0</td>\n",
       "    </tr>\n",
       "    <tr>\n",
       "      <th>99999</th>\n",
       "      <td>348333</td>\n",
       "      <td>long_email</td>\n",
       "      <td>personalized</td>\n",
       "      <td>8</td>\n",
       "      <td>Sunday</td>\n",
       "      <td>UK</td>\n",
       "      <td>1</td>\n",
       "      <td>1</td>\n",
       "      <td>1</td>\n",
       "    </tr>\n",
       "  </tbody>\n",
       "</table>\n",
       "<p>100000 rows × 9 columns</p>\n",
       "</div>"
      ],
      "text/plain": [
       "       email_id   email_text email_version  hour    weekday user_country  \\\n",
       "0         85120  short_email  personalized     2     Sunday           US   \n",
       "1        966622   long_email  personalized    12     Sunday           UK   \n",
       "2        777221   long_email  personalized    11  Wednesday           US   \n",
       "3        493711  short_email       generic     6     Monday           UK   \n",
       "4        106887   long_email       generic    14     Monday           US   \n",
       "...         ...          ...           ...   ...        ...          ...   \n",
       "99995    803504  short_email  personalized     4     Monday           US   \n",
       "99996    899722   long_email  personalized     7   Saturday           US   \n",
       "99997    449610   long_email  personalized    11   Saturday           UK   \n",
       "99998     72497  short_email       generic    10     Monday           UK   \n",
       "99999    348333   long_email  personalized     8     Sunday           UK   \n",
       "\n",
       "       user_past_purchases  opened  clicked  \n",
       "0                        5       0        0  \n",
       "1                        2       1        1  \n",
       "2                        2       0        0  \n",
       "3                        1       0        0  \n",
       "4                        6       0        0  \n",
       "...                    ...     ...      ...  \n",
       "99995                    5       0        0  \n",
       "99996                    1       0        0  \n",
       "99997                    6       0        0  \n",
       "99998                    0       0        0  \n",
       "99999                    1       1        1  \n",
       "\n",
       "[100000 rows x 9 columns]"
      ]
     },
     "execution_count": 8,
     "metadata": {},
     "output_type": "execute_result"
    }
   ],
   "source": [
    "temp_df"
   ]
  },
  {
   "cell_type": "markdown",
   "id": "8733107a",
   "metadata": {},
   "source": [
    "### Identify class labels\n"
   ]
  },
  {
   "cell_type": "code",
   "execution_count": 13,
   "id": "41a0c0a2-b376-43db-a655-ae4f49745e11",
   "metadata": {},
   "outputs": [
    {
     "data": {
      "text/plain": [
       "email_text\n",
       "long_email     50276\n",
       "short_email    49724\n",
       "Name: count, dtype: int64"
      ]
     },
     "execution_count": 13,
     "metadata": {},
     "output_type": "execute_result"
    }
   ],
   "source": [
    "temp_df['email_text'].value_counts()"
   ]
  },
  {
   "cell_type": "code",
   "execution_count": 15,
   "id": "69a08b55-f7cf-4e41-8580-72d331ab5de7",
   "metadata": {},
   "outputs": [
    {
     "data": {
      "text/plain": [
       "email_text\n",
       "0    50276\n",
       "1    49724\n",
       "Name: count, dtype: int64"
      ]
     },
     "execution_count": 15,
     "metadata": {},
     "output_type": "execute_result"
    }
   ],
   "source": [
    "df['email_text'].value_counts()"
   ]
  },
  {
   "cell_type": "code",
   "execution_count": 17,
   "id": "dca18152-2d23-492e-b172-6e96e2f03fc7",
   "metadata": {},
   "outputs": [
    {
     "data": {
      "text/plain": [
       "email_version\n",
       "generic         50209\n",
       "personalized    49791\n",
       "Name: count, dtype: int64"
      ]
     },
     "execution_count": 17,
     "metadata": {},
     "output_type": "execute_result"
    }
   ],
   "source": [
    "temp_df['email_version'].value_counts()"
   ]
  },
  {
   "cell_type": "code",
   "execution_count": 19,
   "id": "02ba809d-2117-46f9-90cf-60d68b7d1919",
   "metadata": {},
   "outputs": [
    {
     "data": {
      "text/plain": [
       "email_version\n",
       "0    50209\n",
       "1    49791\n",
       "Name: count, dtype: int64"
      ]
     },
     "execution_count": 19,
     "metadata": {},
     "output_type": "execute_result"
    }
   ],
   "source": [
    "df['email_version'].value_counts()"
   ]
  },
  {
   "cell_type": "code",
   "execution_count": 21,
   "id": "d78ed514-09af-423f-a6a8-dba7bb1fa485",
   "metadata": {},
   "outputs": [
    {
     "data": {
      "text/plain": [
       "user_country\n",
       "US    60099\n",
       "UK    19939\n",
       "FR     9995\n",
       "ES     9967\n",
       "Name: count, dtype: int64"
      ]
     },
     "execution_count": 21,
     "metadata": {},
     "output_type": "execute_result"
    }
   ],
   "source": [
    "temp_df['user_country'].value_counts()"
   ]
  },
  {
   "cell_type": "code",
   "execution_count": 23,
   "id": "fdfa337d-6069-4d3d-bd00-4ba8a98b0f9d",
   "metadata": {},
   "outputs": [
    {
     "data": {
      "text/plain": [
       "user_country\n",
       "3    60099\n",
       "2    19939\n",
       "1     9995\n",
       "0     9967\n",
       "Name: count, dtype: int64"
      ]
     },
     "execution_count": 23,
     "metadata": {},
     "output_type": "execute_result"
    }
   ],
   "source": [
    "df['user_country'].value_counts()"
   ]
  },
  {
   "cell_type": "markdown",
   "id": "4bdad005-b861-4f27-86cd-10e9fa93a1f6",
   "metadata": {},
   "source": [
    "\n",
    "## Train Click Prediction Model\n",
    "\n",
    "Random Forest classifier is trained to predict which users are likely to click the link."
   ]
  },
  {
   "cell_type": "code",
   "execution_count": 26,
   "id": "158cfecd",
   "metadata": {},
   "outputs": [
    {
     "name": "stdout",
     "output_type": "stream",
     "text": [
      "              precision    recall  f1-score   support\n",
      "\n",
      "           0       0.98      1.00      0.99     19547\n",
      "           1       0.37      0.08      0.14       453\n",
      "\n",
      "    accuracy                           0.98     20000\n",
      "   macro avg       0.67      0.54      0.56     20000\n",
      "weighted avg       0.97      0.98      0.97     20000\n",
      "\n",
      "[[19482    65]\n",
      " [  415    38]]\n"
     ]
    }
   ],
   "source": [
    "\n",
    "from sklearn.model_selection import train_test_split\n",
    "from sklearn.ensemble import RandomForestClassifier\n",
    "from sklearn.metrics import classification_report, confusion_matrix\n",
    "\n",
    "# Features and target\n",
    "X = df.drop('clicked', axis = 1)\n",
    "y = df['clicked']\n",
    "\n",
    "# Train/test split\n",
    "X_train, X_test, y_train, y_test = train_test_split(X, y, random_state=42, test_size=0.2)\n",
    "\n",
    "# Train model\n",
    "model = RandomForestClassifier(random_state=42)\n",
    "model.fit(X_train, y_train)\n",
    "\n",
    "# Evaluate\n",
    "y_pred = model.predict(X_test)\n",
    "print(classification_report(y_test, y_pred))\n",
    "print(confusion_matrix(y_test, y_pred))\n"
   ]
  },
  {
   "cell_type": "markdown",
   "id": "a0ed5399",
   "metadata": {},
   "source": [
    "\n",
    "## Estimate CTR with Model\n",
    "For choosing suitable threshold, these questions need to be addressed:\n",
    "### What’s more costly?\n",
    "\n",
    "- Sending emails to uninterested users? → Choose higher threshold.\n",
    "\n",
    "- Missing potential clickers? → Choose lower threshold.\n",
    "\n",
    "### More volume or more quality?\n",
    "\n",
    "- More clicks overall (high recall)? → Lower threshold.\n",
    "\n",
    "- Better conversion rates (high precision)? → Higher threshold."
   ]
  },
  {
   "cell_type": "code",
   "execution_count": 29,
   "id": "8de20aab",
   "metadata": {},
   "outputs": [
    {
     "name": "stdout",
     "output_type": "stream",
     "text": [
      "Estimated CTR with 0.5 threshold: 0.52%\n"
     ]
    }
   ],
   "source": [
    "\n",
    "probs = model.predict_proba(X_test)[:, 1]\n",
    "threshold = 0.5 \n",
    "predicted_clicks = (probs > threshold).sum()\n",
    "\n",
    "# Estimate improved CTR\n",
    "estimated_ctr = predicted_clicks / len(X_test)\n",
    "print(f\"Estimated CTR with {threshold} threshold: {estimated_ctr:.2%}\")\n"
   ]
  },
  {
   "cell_type": "code",
   "execution_count": 31,
   "id": "ecb40641-8cca-48e4-ba01-d1679318b49f",
   "metadata": {},
   "outputs": [
    {
     "name": "stdout",
     "output_type": "stream",
     "text": [
      "Actual CTR:  0.02265\n"
     ]
    }
   ],
   "source": [
    "sum = 0\n",
    "for i in y_test:\n",
    "    if i==1:\n",
    "        sum += 1\n",
    "\n",
    "actual_ctr = sum/len(X_test)\n",
    "print(\"Actual CTR: \", actual_ctr)"
   ]
  },
  {
   "cell_type": "markdown",
   "id": "86e7876a-5fa4-492b-b1a2-14447ac1ab46",
   "metadata": {},
   "source": [
    "Threshold can be modified according to the use case and company's requirement as mentioned above"
   ]
  },
  {
   "cell_type": "markdown",
   "id": "b5853b60-90f1-4d0c-93d8-3dc8d17d8be2",
   "metadata": {},
   "source": [
    "## Discover Insights by Segments"
   ]
  },
  {
   "cell_type": "code",
   "execution_count": 35,
   "id": "5c64179c",
   "metadata": {},
   "outputs": [
    {
     "name": "stdout",
     "output_type": "stream",
     "text": [
      "CTR by Email Text: {'Long_email': 0.01853767205028244, 'short_email': 0.02387177218244711}\n",
      "CTR by Email Version: {'Generic': 0.015136728474974607, 'Personalized': 0.02729408929324577}\n",
      "Countries by CTR: {'UK': 0.024675259541601886, 'US': 0.024359806319572706, 'ES': 0.008327480686264674, 'FR': 0.0080040020010005}\n"
     ]
    }
   ],
   "source": [
    "\n",
    "text_ctr = df.groupby('email_text')['clicked'].mean()\n",
    "version_ctr = df.groupby('email_version')['clicked'].mean()\n",
    "hour_ctr = df.groupby('hour')['clicked'].mean()\n",
    "country_ctr = df.groupby('user_country')['clicked'].mean().sort_values(ascending=False)\n",
    "\n",
    "new_keys = {0: \"Long_email\", 1: \"short_email\"}\n",
    "text_ctr = {new_keys[key] if key in new_keys else key: value for key, value in text_ctr.items()}\n",
    "new_keys = {0: \"Generic\", 1: \"Personalized\"}\n",
    "version_ctr = {new_keys[key] if key in new_keys else key: value for key, value in version_ctr.items()}\n",
    "new_keys = {0: \"ES\", 1: \"FR\", 2: \"UK\", 3: \"US\"}\n",
    "country_ctr = {new_keys[key] if key in new_keys else key: value for key, value in country_ctr.items()}\n",
    "\n",
    "print(\"CTR by Email Text:\", text_ctr)\n",
    "print(\"CTR by Email Version:\", version_ctr)\n",
    "print(\"Countries by CTR:\", country_ctr)\n"
   ]
  },
  {
   "cell_type": "markdown",
   "id": "da62b74b",
   "metadata": {},
   "source": [
    "\n",
    "## Visualizations and Analysis\n"
   ]
  },
  {
   "cell_type": "code",
   "execution_count": 38,
   "id": "78c98519",
   "metadata": {},
   "outputs": [
    {
     "data": {
      "image/png": "[encoded data removed]",
      "text/plain": [
       "<Figure size 1000x400 with 1 Axes>"
      ]
     },
     "metadata": {},
     "output_type": "display_data"
    },
    {
     "data": {
      "image/png": "[encoded data removed]",
      "text/plain": [
       "<Figure size 1000x500 with 1 Axes>"
      ]
     },
     "metadata": {},
     "output_type": "display_data"
    }
   ],
   "source": [
    "\n",
    "import matplotlib.pyplot as plt\n",
    "import seaborn as sns\n",
    "\n",
    "sns.set(style='whitegrid')\n",
    "\n",
    "# Hour vs CTR\n",
    "plt.figure(figsize=(10, 4))\n",
    "sns.lineplot(x=hour_ctr.index, y=hour_ctr.values)\n",
    "plt.title('Click-Through Rate by Hour of Day')\n",
    "plt.xlabel('Hour')\n",
    "plt.ylabel('CTR')\n",
    "plt.show()\n",
    "\n",
    "# Country CTR\n",
    "\n",
    "plt.figure(figsize=(10, 5))\n",
    "names = list(country_ctr.keys())\n",
    "values = list(country_ctr.values())\n",
    "plt.bar(range(len(country_ctr)), values, tick_label=names)\n",
    "plt.title('Countries by Click-Through Rate')\n",
    "plt.ylabel('CTR')\n",
    "# plt.xticks(rotation=45)\n",
    "plt.show()\n"
   ]
  },
  {
   "cell_type": "markdown",
   "id": "30ed27e9-0ebc-42d0-9213-91b52efb3ec4",
   "metadata": {},
   "source": [
    "## From above plots, following conclusions and insights can be drawn:\n",
    "- Late-night hours, especially around `11 PM`, are the most effective for click-based engagement. It may be ideal to schedule campaigns for that time. (This behaviour is quite reasonable as all of us prefer checking mails once in the night before sleep).\n",
    "- Marketing or advertising efforts are more effective in the `UK and US`.\n",
    "- Consider tailoring content, targeting, or campaigns differently for `Spain` and `France` to boost performance."
   ]
  },
  {
   "cell_type": "code",
   "execution_count": null,
   "id": "365928fc-ae92-4050-9f67-973225aacb4f",
   "metadata": {},
   "outputs": [],
   "source": []
  }
 ],
 "metadata": {
  "kernelspec": {
   "display_name": "Python [conda env:base] *",
   "language": "python",
   "name": "conda-base-py"
  },
  "language_info": {
   "codemirror_mode": {
    "name": "ipython",
    "version": 3
   },
   "file_extension": ".py",
   "mimetype": "text/x-python",
   "name": "python",
   "nbconvert_exporter": "python",
   "pygments_lexer": "ipython3",
   "version": "3.12.7"
  }
 },
 "nbformat": 4,
 "nbformat_minor": 5
}
